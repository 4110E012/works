{
  "nbformat": 4,
  "nbformat_minor": 0,
  "metadata": {
    "colab": {
      "provenance": []
    },
    "kernelspec": {
      "name": "python3",
      "display_name": "Python 3"
    },
    "language_info": {
      "name": "python"
    }
  },
  "cells": [
    {
      "cell_type": "code",
      "execution_count": 13,
      "metadata": {
        "colab": {
          "base_uri": "https://localhost:8080/"
        },
        "id": "q45X0IEOyhqw",
        "outputId": "94728631-947a-46f4-aa7c-25cd9fd0f2ec"
      },
      "outputs": [
        {
          "output_type": "stream",
          "name": "stdout",
          "text": [
            "a>b\n"
          ]
        }
      ],
      "source": [
        "a = 33\n",
        "b = 22\n",
        "if(a>b):\n",
        "  print(\"a>b\")\n",
        "elif(a<b):\n",
        "  print(\"a<b\")\n",
        "else:\n",
        "  print(\"a=b\")"
      ]
    }
  ]
}